{
 "cells": [
  {
   "cell_type": "code",
   "execution_count": 8,
   "metadata": {},
   "outputs": [],
   "source": [
    "import numpy as np # linear algebra\n",
    "import pandas as pd # data processing, CSV file I/O (e.g. pd.read_csv)\n",
    "import os\n",
    "#import seaborn as sns\n",
    "from pathlib import Path\n",
    "import base64\n",
    "import cv2\n",
    "import matplotlib.pyplot as plt\n",
    "import json \n",
    "from tqdm.notebook import tqdm \n",
    "import scipy \n",
    "from joblib import Parallel , delayed\n"
   ]
  },
  {
   "cell_type": "code",
   "execution_count": 2,
   "metadata": {},
   "outputs": [],
   "source": [
    "IMG_SIZE = 576\n",
    "base_path = Path('./dataset')\n",
    "train_path = list((base_path /'train').glob('train*'))\n",
    "test_path = list((base_path / 'test').glob('test*'))"
   ]
  },
  {
   "cell_type": "code",
   "execution_count": 3,
   "metadata": {},
   "outputs": [
    {
     "data": {
      "text/plain": [
       "(62622, 20874)"
      ]
     },
     "execution_count": 3,
     "metadata": {},
     "output_type": "execute_result"
    }
   ],
   "source": [
    "len(train_path), len(test_path)"
   ]
  },
  {
   "cell_type": "code",
   "execution_count": 4,
   "metadata": {},
   "outputs": [
    {
     "data": {
      "text/html": [
       "<div>\n",
       "<style scoped>\n",
       "    .dataframe tbody tr th:only-of-type {\n",
       "        vertical-align: middle;\n",
       "    }\n",
       "\n",
       "    .dataframe tbody tr th {\n",
       "        vertical-align: top;\n",
       "    }\n",
       "\n",
       "    .dataframe thead th {\n",
       "        text-align: right;\n",
       "    }\n",
       "</style>\n",
       "<table border=\"1\" class=\"dataframe\">\n",
       "  <thead>\n",
       "    <tr style=\"text-align: right;\">\n",
       "      <th></th>\n",
       "      <th>class</th>\n",
       "      <th>class_id</th>\n",
       "    </tr>\n",
       "  </thead>\n",
       "  <tbody>\n",
       "    <tr>\n",
       "      <th>0</th>\n",
       "      <td>01_ulcer</td>\n",
       "      <td>1</td>\n",
       "    </tr>\n",
       "    <tr>\n",
       "      <th>1</th>\n",
       "      <td>02_mass</td>\n",
       "      <td>2</td>\n",
       "    </tr>\n",
       "    <tr>\n",
       "      <th>2</th>\n",
       "      <td>04_lymph</td>\n",
       "      <td>3</td>\n",
       "    </tr>\n",
       "    <tr>\n",
       "      <th>3</th>\n",
       "      <td>05_bleeding</td>\n",
       "      <td>4</td>\n",
       "    </tr>\n",
       "  </tbody>\n",
       "</table>\n",
       "</div>"
      ],
      "text/plain": [
       "         class  class_id\n",
       "0     01_ulcer         1\n",
       "1      02_mass         2\n",
       "2     04_lymph         3\n",
       "3  05_bleeding         4"
      ]
     },
     "execution_count": 4,
     "metadata": {},
     "output_type": "execute_result"
    }
   ],
   "source": [
    "label_info = pd.read_csv((base_path /'class_id_info.csv'))\n",
    "categories = {i[0]:i[1]-1 for i in label_info.to_numpy()}\n",
    "label_info"
   ]
  },
  {
   "cell_type": "code",
   "execution_count": 6,
   "metadata": {},
   "outputs": [],
   "source": [
    "def xyxy2coco(xyxy):\n",
    "    x1,y1,x2,y2 =xyxy\n",
    "    w,h =  x2-x1, y2-y1\n",
    "    return [x1,y1,w,h] \n",
    "\n",
    "def xyxy2yolo(xyxy):\n",
    "    \n",
    "    x1,y1,x2,y2 =xyxy\n",
    "    w,h =  x2-x1, y2-y1\n",
    "    xc = x1 + int(np.round(w/2)) # xmin + width/2\n",
    "    yc = y1 + int(np.round(h/2)) # ymin + height/2\n",
    "    return [xc/IMG_SIZE,yc/IMG_SIZE,w/IMG_SIZE,h/IMG_SIZE] \n",
    "\n",
    "def scale_bbox(img, xyxy):\n",
    "    # Get scaling factor\n",
    "    scale_x = IMG_SIZE/img.shape[1]\n",
    "    scale_y = IMG_SIZE/img.shape[0]\n",
    "    \n",
    "    x1,y1,x2,y2 =xyxy\n",
    "    x1 = int(np.round(x1*scale_x, 4))\n",
    "    y1 = int(np.round(y1*scale_y, 4))\n",
    "    x2 = int(np.round(x2*scale_x, 4))\n",
    "    y2= int(np.round(y2*scale_y, 4))\n",
    "\n",
    "    return [x1, y1, x2, y2] # xmin, ymin, xmax, ymax\n",
    "\n",
    "def save_image_label(json_file,mode): \n",
    "    with open(json_file,'r') as f: \n",
    "        json_file =json.load(f)\n",
    "\n",
    "    image_id = json_file['file_name'].replace('.json','')\n",
    "    \n",
    "    # decode image data\n",
    "    image = np.frombuffer(base64.b64decode(json_file['imageData']), np.uint8)\n",
    "    image = cv2.imdecode(image, cv2.IMREAD_COLOR)\n",
    "    cv2.imwrite(str(new_image_path / (image_id + '.png')) ,image)\n",
    "    \n",
    "    # extract bbox\n",
    "    origin_bbox = []\n",
    "    if mode == 'train':\n",
    "        with open(new_label_path / (image_id + '.txt'), 'w') as f:\n",
    "            for i in json_file['shapes']: \n",
    "                bbox = i['points'][0] + i['points'][2]\n",
    "                origin_bbox.append(bbox)\n",
    "                bbox = scale_bbox(image,bbox)\n",
    "                bbox = xyxy2yolo(bbox)\n",
    "                \n",
    "                labels = [categories[i['label']]]+bbox\n",
    "                f.writelines([f'{i} ' for i in labels] + ['\\n']) \n",
    "    return origin_bbox"
   ]
  },
  {
   "cell_type": "code",
   "execution_count": 9,
   "metadata": {},
   "outputs": [
    {
     "data": {
      "application/vnd.jupyter.widget-view+json": {
       "model_id": "706b4225f4db4c28bea169c3c3b23a04",
       "version_major": 2,
       "version_minor": 0
      },
      "text/plain": [
       "  0%|          | 0/62622 [00:00<?, ?it/s]"
      ]
     },
     "metadata": {},
     "output_type": "display_data"
    },
    {
     "name": "stderr",
     "output_type": "stream",
     "text": [
      "  0%|          | 0/62622 [01:13<?, ?it/s]\n"
     ]
    }
   ],
   "source": [
    "import multiprocessing as mp \n",
    "\n",
    "# 저장할 파일 경로\n",
    "save_path = Path('./train_data')\n",
    "new_image_path = save_path / 'images' # image폴더 \n",
    "new_label_path = save_path / 'labels' # label폴더\n",
    "\n",
    "new_image_path.mkdir(parents=True,exist_ok=True)\n",
    "new_label_path.mkdir(parents=True,exist_ok=True)\n",
    "\n",
    "# data를 생성하기 위해 mlutiprocessing 적용\n",
    "tmp = Parallel(n_jobs=mp.cpu_count(),prefer=\"threads\")(delayed(save_image_label)(str(train_json),'train') for train_json in tqdm(train_path))"
   ]
  },
  {
   "cell_type": "code",
   "execution_count": null,
   "metadata": {},
   "outputs": [],
   "source": [
    "filepaths"
   ]
  }
 ],
 "metadata": {
  "interpreter": {
   "hash": "e2cd6330df87933e268d4b1d5797575da50d54717d7327a2d2e545dc9a1c6c69"
  },
  "kernelspec": {
   "display_name": "Python 3.8.12 64-bit ('tf25': conda)",
   "language": "python",
   "name": "python3"
  },
  "language_info": {
   "codemirror_mode": {
    "name": "ipython",
    "version": 3
   },
   "file_extension": ".py",
   "mimetype": "text/x-python",
   "name": "python",
   "nbconvert_exporter": "python",
   "pygments_lexer": "ipython3",
   "version": "3.8.12"
  },
  "orig_nbformat": 4
 },
 "nbformat": 4,
 "nbformat_minor": 2
}
